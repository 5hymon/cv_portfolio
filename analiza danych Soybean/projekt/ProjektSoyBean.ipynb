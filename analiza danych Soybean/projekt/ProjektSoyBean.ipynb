{
 "cells": [
  {
   "cell_type": "markdown",
   "id": "c3b62b3d-7efc-4788-934d-4e05a603a9d3",
   "metadata": {},
   "source": [
    "<h1>Szymon Kobus-Puchała 245843, Analiza Danych, 4.01.2025</h1>"
   ]
  },
  {
   "cell_type": "markdown",
   "id": "1ba698c4-f766-4e13-b80e-3465ca173de9",
   "metadata": {},
   "source": [
    "<h1>1. Opis problemu</h1>"
   ]
  },
  {
   "cell_type": "markdown",
   "id": "ad44bd86-0390-4878-aa24-071ef77c8601",
   "metadata": {},
   "source": [
    "<h3>a) Opisz zbiór danych, cechy i podaj źródło danych</h3>"
   ]
  },
  {
   "cell_type": "markdown",
   "id": "e99f87e7-0c9b-4437-ba45-2a9b854a9549",
   "metadata": {},
   "source": [
    "Zbiór danych \"Soybean (Large)\" pochodzi z archive.ics.uci.edu. Jest to zbiór danych używany do klasyfikacji problemów związanych z chorobami soi. Składa się z 35 cech opisujących różne aspekty uprawy soi, takich jak warunki pogodowe, wygląd roślin, oraz objawy chorobowe. Zbiór danych zawiera 683 próbek podzielonych na różne klasy chorób. Każda próbka reprezentuje pojedynczą obserwację (roślinę), a cechy obejmują zarówno dane kategoryczne (np. obecność grzybni), jak i liczbowe (np. wielkość plam na liściach). Dane te są wykorzystywane głównie do celów edukacyjnych i badawczych związanych z algorytmami klasyfikacji. \n",
    "Dane dostępne są pod adresem: https://archive.ics.uci.edu/dataset/90/soybean+large"
   ]
  },
  {
   "cell_type": "markdown",
   "id": "1256e89d-9046-4aab-bec7-f06c815db1bb",
   "metadata": {},
   "source": [
    "<h3>b) Załaduj potrzebne biblioteki</h3>"
   ]
  },
  {
   "cell_type": "code",
   "execution_count": 6,
   "id": "93c93ee9-9954-498c-a1e5-0ee26cacf81f",
   "metadata": {},
   "outputs": [],
   "source": [
    "import pandas as pd\n",
    "import numpy as np\n",
    "import seaborn as sns\n",
    "import matplotlib.pyplot as plt\n",
    "from sklearn.impute import SimpleImputer\n",
    "from sklearn.preprocessing import StandardScaler, LabelEncoder\n",
    "from sklearn.model_selection import train_test_split\n",
    "from sklearn.ensemble import RandomForestClassifier\n",
    "from sklearn.tree import DecisionTreeClassifier\n",
    "from sklearn.metrics import classification_report, accuracy_score, confusion_matrix\n",
    "from sklearn.feature_selection import SelectFromModel\n",
    "from sklearn.ensemble import RandomForestClassifier"
   ]
  },
  {
   "cell_type": "markdown",
   "id": "96da2bb0-4101-4ef6-b72d-b16603c1691a",
   "metadata": {},
   "source": [
    "<h3>c) Załaduj zbiór danych</h3>"
   ]
  },
  {
   "cell_type": "code",
   "execution_count": 8,
   "id": "99849a68-1747-43e0-bf3b-31ec481a9596",
   "metadata": {},
   "outputs": [],
   "source": [
    "headers = [\n",
    "    \"Classes\", \"date\", \"plant-stand\", \"precip\", \"temp\", \"hail\", \"crop-hist\", \"area-damaged\", \"severity\", \"seed-tmt\",\n",
    "    \"germination\", \"plant-growth\", \"leaves\", \"leafspots-halo\", \"leafspots-marg\", \"leafspot-size\", \"leaf-shread\",\n",
    "    \"leaf-malf\", \"leaf-mild\", \"stem\", \"lodging\", \"stem-cankers\", \"canker-lesion\", \"fruiting-bodies\",\n",
    "    \"external decay\", \"mycelium\", \"int-discolor\", \"sclerotia\", \"fruit-pods\", \"fruit spots\", \"seed\", \"mold-growth\",\n",
    "    \"seed-discolor\", \"seed-size\", \"shriveling\", \"roots\"\n",
    "]\n",
    "\n",
    "df = pd.read_csv('soybean-large.data', names=headers, header=None, na_values=['?', np.nan])"
   ]
  },
  {
   "cell_type": "markdown",
   "id": "a619e7d8-b788-41a5-bce4-8045f278752c",
   "metadata": {},
   "source": [
    "<h1>2. Opis danych</h1>"
   ]
  },
  {
   "cell_type": "markdown",
   "id": "9c969e33-8622-424f-b163-b2788e441565",
   "metadata": {},
   "source": [
    "<h3>a) Statystyki opisowe</h3>"
   ]
  },
  {
   "cell_type": "code",
   "execution_count": 11,
   "id": "05e1a47c-b9d4-4df5-bde9-3fa41d25eeab",
   "metadata": {},
   "outputs": [
    {
     "data": {
      "text/html": [
       "<div>\n",
       "<style scoped>\n",
       "    .dataframe tbody tr th:only-of-type {\n",
       "        vertical-align: middle;\n",
       "    }\n",
       "\n",
       "    .dataframe tbody tr th {\n",
       "        vertical-align: top;\n",
       "    }\n",
       "\n",
       "    .dataframe thead th {\n",
       "        text-align: right;\n",
       "    }\n",
       "</style>\n",
       "<table border=\"1\" class=\"dataframe\">\n",
       "  <thead>\n",
       "    <tr style=\"text-align: right;\">\n",
       "      <th></th>\n",
       "      <th>Classes</th>\n",
       "      <th>date</th>\n",
       "      <th>plant-stand</th>\n",
       "      <th>precip</th>\n",
       "      <th>temp</th>\n",
       "      <th>hail</th>\n",
       "      <th>crop-hist</th>\n",
       "      <th>area-damaged</th>\n",
       "      <th>severity</th>\n",
       "      <th>seed-tmt</th>\n",
       "      <th>...</th>\n",
       "      <th>int-discolor</th>\n",
       "      <th>sclerotia</th>\n",
       "      <th>fruit-pods</th>\n",
       "      <th>fruit spots</th>\n",
       "      <th>seed</th>\n",
       "      <th>mold-growth</th>\n",
       "      <th>seed-discolor</th>\n",
       "      <th>seed-size</th>\n",
       "      <th>shriveling</th>\n",
       "      <th>roots</th>\n",
       "    </tr>\n",
       "  </thead>\n",
       "  <tbody>\n",
       "    <tr>\n",
       "      <th>0</th>\n",
       "      <td>diaporthe-stem-canker</td>\n",
       "      <td>6.0</td>\n",
       "      <td>0.0</td>\n",
       "      <td>2.0</td>\n",
       "      <td>1.0</td>\n",
       "      <td>0.0</td>\n",
       "      <td>1.0</td>\n",
       "      <td>1.0</td>\n",
       "      <td>1.0</td>\n",
       "      <td>0.0</td>\n",
       "      <td>...</td>\n",
       "      <td>0.0</td>\n",
       "      <td>0.0</td>\n",
       "      <td>0.0</td>\n",
       "      <td>4.0</td>\n",
       "      <td>0.0</td>\n",
       "      <td>0.0</td>\n",
       "      <td>0.0</td>\n",
       "      <td>0.0</td>\n",
       "      <td>0.0</td>\n",
       "      <td>0.0</td>\n",
       "    </tr>\n",
       "    <tr>\n",
       "      <th>1</th>\n",
       "      <td>diaporthe-stem-canker</td>\n",
       "      <td>4.0</td>\n",
       "      <td>0.0</td>\n",
       "      <td>2.0</td>\n",
       "      <td>1.0</td>\n",
       "      <td>0.0</td>\n",
       "      <td>2.0</td>\n",
       "      <td>0.0</td>\n",
       "      <td>2.0</td>\n",
       "      <td>1.0</td>\n",
       "      <td>...</td>\n",
       "      <td>0.0</td>\n",
       "      <td>0.0</td>\n",
       "      <td>0.0</td>\n",
       "      <td>4.0</td>\n",
       "      <td>0.0</td>\n",
       "      <td>0.0</td>\n",
       "      <td>0.0</td>\n",
       "      <td>0.0</td>\n",
       "      <td>0.0</td>\n",
       "      <td>0.0</td>\n",
       "    </tr>\n",
       "    <tr>\n",
       "      <th>2</th>\n",
       "      <td>diaporthe-stem-canker</td>\n",
       "      <td>3.0</td>\n",
       "      <td>0.0</td>\n",
       "      <td>2.0</td>\n",
       "      <td>1.0</td>\n",
       "      <td>0.0</td>\n",
       "      <td>1.0</td>\n",
       "      <td>0.0</td>\n",
       "      <td>2.0</td>\n",
       "      <td>1.0</td>\n",
       "      <td>...</td>\n",
       "      <td>0.0</td>\n",
       "      <td>0.0</td>\n",
       "      <td>0.0</td>\n",
       "      <td>4.0</td>\n",
       "      <td>0.0</td>\n",
       "      <td>0.0</td>\n",
       "      <td>0.0</td>\n",
       "      <td>0.0</td>\n",
       "      <td>0.0</td>\n",
       "      <td>0.0</td>\n",
       "    </tr>\n",
       "    <tr>\n",
       "      <th>3</th>\n",
       "      <td>diaporthe-stem-canker</td>\n",
       "      <td>3.0</td>\n",
       "      <td>0.0</td>\n",
       "      <td>2.0</td>\n",
       "      <td>1.0</td>\n",
       "      <td>0.0</td>\n",
       "      <td>1.0</td>\n",
       "      <td>0.0</td>\n",
       "      <td>2.0</td>\n",
       "      <td>0.0</td>\n",
       "      <td>...</td>\n",
       "      <td>0.0</td>\n",
       "      <td>0.0</td>\n",
       "      <td>0.0</td>\n",
       "      <td>4.0</td>\n",
       "      <td>0.0</td>\n",
       "      <td>0.0</td>\n",
       "      <td>0.0</td>\n",
       "      <td>0.0</td>\n",
       "      <td>0.0</td>\n",
       "      <td>0.0</td>\n",
       "    </tr>\n",
       "    <tr>\n",
       "      <th>4</th>\n",
       "      <td>diaporthe-stem-canker</td>\n",
       "      <td>6.0</td>\n",
       "      <td>0.0</td>\n",
       "      <td>2.0</td>\n",
       "      <td>1.0</td>\n",
       "      <td>0.0</td>\n",
       "      <td>2.0</td>\n",
       "      <td>0.0</td>\n",
       "      <td>1.0</td>\n",
       "      <td>0.0</td>\n",
       "      <td>...</td>\n",
       "      <td>0.0</td>\n",
       "      <td>0.0</td>\n",
       "      <td>0.0</td>\n",
       "      <td>4.0</td>\n",
       "      <td>0.0</td>\n",
       "      <td>0.0</td>\n",
       "      <td>0.0</td>\n",
       "      <td>0.0</td>\n",
       "      <td>0.0</td>\n",
       "      <td>0.0</td>\n",
       "    </tr>\n",
       "  </tbody>\n",
       "</table>\n",
       "<p>5 rows × 36 columns</p>\n",
       "</div>"
      ],
      "text/plain": [
       "                 Classes  date  plant-stand  precip  temp  hail  crop-hist  \\\n",
       "0  diaporthe-stem-canker   6.0          0.0     2.0   1.0   0.0        1.0   \n",
       "1  diaporthe-stem-canker   4.0          0.0     2.0   1.0   0.0        2.0   \n",
       "2  diaporthe-stem-canker   3.0          0.0     2.0   1.0   0.0        1.0   \n",
       "3  diaporthe-stem-canker   3.0          0.0     2.0   1.0   0.0        1.0   \n",
       "4  diaporthe-stem-canker   6.0          0.0     2.0   1.0   0.0        2.0   \n",
       "\n",
       "   area-damaged  severity  seed-tmt  ...  int-discolor  sclerotia  fruit-pods  \\\n",
       "0           1.0       1.0       0.0  ...           0.0        0.0         0.0   \n",
       "1           0.0       2.0       1.0  ...           0.0        0.0         0.0   \n",
       "2           0.0       2.0       1.0  ...           0.0        0.0         0.0   \n",
       "3           0.0       2.0       0.0  ...           0.0        0.0         0.0   \n",
       "4           0.0       1.0       0.0  ...           0.0        0.0         0.0   \n",
       "\n",
       "   fruit spots  seed  mold-growth  seed-discolor  seed-size  shriveling  roots  \n",
       "0          4.0   0.0          0.0            0.0        0.0         0.0    0.0  \n",
       "1          4.0   0.0          0.0            0.0        0.0         0.0    0.0  \n",
       "2          4.0   0.0          0.0            0.0        0.0         0.0    0.0  \n",
       "3          4.0   0.0          0.0            0.0        0.0         0.0    0.0  \n",
       "4          4.0   0.0          0.0            0.0        0.0         0.0    0.0  \n",
       "\n",
       "[5 rows x 36 columns]"
      ]
     },
     "metadata": {},
     "output_type": "display_data"
    }
   ],
   "source": [
    "display(df.head())"
   ]
  },
  {
   "cell_type": "code",
   "execution_count": 12,
   "id": "0011e729-81a5-4c46-a558-c13203c0ef3e",
   "metadata": {},
   "outputs": [
    {
     "name": "stdout",
     "output_type": "stream",
     "text": [
      "<class 'pandas.core.frame.DataFrame'>\n",
      "RangeIndex: 307 entries, 0 to 306\n",
      "Data columns (total 36 columns):\n",
      " #   Column           Non-Null Count  Dtype  \n",
      "---  ------           --------------  -----  \n",
      " 0   Classes          307 non-null    object \n",
      " 1   date             306 non-null    float64\n",
      " 2   plant-stand      299 non-null    float64\n",
      " 3   precip           296 non-null    float64\n",
      " 4   temp             300 non-null    float64\n",
      " 5   hail             266 non-null    float64\n",
      " 6   crop-hist        306 non-null    float64\n",
      " 7   area-damaged     306 non-null    float64\n",
      " 8   severity         266 non-null    float64\n",
      " 9   seed-tmt         266 non-null    float64\n",
      " 10  germination      271 non-null    float64\n",
      " 11  plant-growth     306 non-null    float64\n",
      " 12  leaves           307 non-null    int64  \n",
      " 13  leafspots-halo   282 non-null    float64\n",
      " 14  leafspots-marg   282 non-null    float64\n",
      " 15  leafspot-size    282 non-null    float64\n",
      " 16  leaf-shread      281 non-null    float64\n",
      " 17  leaf-malf        282 non-null    float64\n",
      " 18  leaf-mild        277 non-null    float64\n",
      " 19  stem             306 non-null    float64\n",
      " 20  lodging          266 non-null    float64\n",
      " 21  stem-cankers     296 non-null    float64\n",
      " 22  canker-lesion    296 non-null    float64\n",
      " 23  fruiting-bodies  272 non-null    float64\n",
      " 24  external decay   296 non-null    float64\n",
      " 25  mycelium         296 non-null    float64\n",
      " 26  int-discolor     296 non-null    float64\n",
      " 27  sclerotia        296 non-null    float64\n",
      " 28  fruit-pods       282 non-null    float64\n",
      " 29  fruit spots      272 non-null    float64\n",
      " 30  seed             278 non-null    float64\n",
      " 31  mold-growth      278 non-null    float64\n",
      " 32  seed-discolor    272 non-null    float64\n",
      " 33  seed-size        278 non-null    float64\n",
      " 34  shriveling       272 non-null    float64\n",
      " 35  roots            300 non-null    float64\n",
      "dtypes: float64(34), int64(1), object(1)\n",
      "memory usage: 86.5+ KB\n"
     ]
    },
    {
     "data": {
      "text/plain": [
       "None"
      ]
     },
     "metadata": {},
     "output_type": "display_data"
    }
   ],
   "source": [
    "display(df.info())"
   ]
  },
  {
   "cell_type": "code",
   "execution_count": 13,
   "id": "d86c4624-9c54-45d6-a156-82fcebe54e72",
   "metadata": {},
   "outputs": [
    {
     "data": {
      "text/html": [
       "<div>\n",
       "<style scoped>\n",
       "    .dataframe tbody tr th:only-of-type {\n",
       "        vertical-align: middle;\n",
       "    }\n",
       "\n",
       "    .dataframe tbody tr th {\n",
       "        vertical-align: top;\n",
       "    }\n",
       "\n",
       "    .dataframe thead th {\n",
       "        text-align: right;\n",
       "    }\n",
       "</style>\n",
       "<table border=\"1\" class=\"dataframe\">\n",
       "  <thead>\n",
       "    <tr style=\"text-align: right;\">\n",
       "      <th></th>\n",
       "      <th>date</th>\n",
       "      <th>plant-stand</th>\n",
       "      <th>precip</th>\n",
       "      <th>temp</th>\n",
       "      <th>hail</th>\n",
       "      <th>crop-hist</th>\n",
       "      <th>area-damaged</th>\n",
       "      <th>severity</th>\n",
       "      <th>seed-tmt</th>\n",
       "      <th>germination</th>\n",
       "      <th>...</th>\n",
       "      <th>int-discolor</th>\n",
       "      <th>sclerotia</th>\n",
       "      <th>fruit-pods</th>\n",
       "      <th>fruit spots</th>\n",
       "      <th>seed</th>\n",
       "      <th>mold-growth</th>\n",
       "      <th>seed-discolor</th>\n",
       "      <th>seed-size</th>\n",
       "      <th>shriveling</th>\n",
       "      <th>roots</th>\n",
       "    </tr>\n",
       "  </thead>\n",
       "  <tbody>\n",
       "    <tr>\n",
       "      <th>count</th>\n",
       "      <td>306.000000</td>\n",
       "      <td>299.000000</td>\n",
       "      <td>296.000000</td>\n",
       "      <td>300.000000</td>\n",
       "      <td>266.000000</td>\n",
       "      <td>306.000000</td>\n",
       "      <td>306.000000</td>\n",
       "      <td>266.000000</td>\n",
       "      <td>266.000000</td>\n",
       "      <td>271.000000</td>\n",
       "      <td>...</td>\n",
       "      <td>296.000000</td>\n",
       "      <td>296.000000</td>\n",
       "      <td>282.000000</td>\n",
       "      <td>272.000000</td>\n",
       "      <td>278.000000</td>\n",
       "      <td>278.000000</td>\n",
       "      <td>272.000000</td>\n",
       "      <td>278.000000</td>\n",
       "      <td>272.000000</td>\n",
       "      <td>300.000000</td>\n",
       "    </tr>\n",
       "    <tr>\n",
       "      <th>mean</th>\n",
       "      <td>3.529412</td>\n",
       "      <td>0.464883</td>\n",
       "      <td>1.577703</td>\n",
       "      <td>1.130000</td>\n",
       "      <td>0.206767</td>\n",
       "      <td>1.816993</td>\n",
       "      <td>1.633987</td>\n",
       "      <td>0.778195</td>\n",
       "      <td>0.548872</td>\n",
       "      <td>1.014760</td>\n",
       "      <td>...</td>\n",
       "      <td>0.135135</td>\n",
       "      <td>0.033784</td>\n",
       "      <td>0.549645</td>\n",
       "      <td>1.084559</td>\n",
       "      <td>0.183453</td>\n",
       "      <td>0.111511</td>\n",
       "      <td>0.102941</td>\n",
       "      <td>0.097122</td>\n",
       "      <td>0.058824</td>\n",
       "      <td>0.156667</td>\n",
       "    </tr>\n",
       "    <tr>\n",
       "      <th>std</th>\n",
       "      <td>1.712285</td>\n",
       "      <td>0.499601</td>\n",
       "      <td>0.713580</td>\n",
       "      <td>0.622676</td>\n",
       "      <td>0.405750</td>\n",
       "      <td>0.994661</td>\n",
       "      <td>1.078868</td>\n",
       "      <td>0.620145</td>\n",
       "      <td>0.632052</td>\n",
       "      <td>0.798009</td>\n",
       "      <td>...</td>\n",
       "      <td>0.430193</td>\n",
       "      <td>0.180978</td>\n",
       "      <td>0.965241</td>\n",
       "      <td>1.575944</td>\n",
       "      <td>0.387736</td>\n",
       "      <td>0.315331</td>\n",
       "      <td>0.304442</td>\n",
       "      <td>0.296658</td>\n",
       "      <td>0.235728</td>\n",
       "      <td>0.423541</td>\n",
       "    </tr>\n",
       "    <tr>\n",
       "      <th>min</th>\n",
       "      <td>0.000000</td>\n",
       "      <td>0.000000</td>\n",
       "      <td>0.000000</td>\n",
       "      <td>0.000000</td>\n",
       "      <td>0.000000</td>\n",
       "      <td>0.000000</td>\n",
       "      <td>0.000000</td>\n",
       "      <td>0.000000</td>\n",
       "      <td>0.000000</td>\n",
       "      <td>0.000000</td>\n",
       "      <td>...</td>\n",
       "      <td>0.000000</td>\n",
       "      <td>0.000000</td>\n",
       "      <td>0.000000</td>\n",
       "      <td>0.000000</td>\n",
       "      <td>0.000000</td>\n",
       "      <td>0.000000</td>\n",
       "      <td>0.000000</td>\n",
       "      <td>0.000000</td>\n",
       "      <td>0.000000</td>\n",
       "      <td>0.000000</td>\n",
       "    </tr>\n",
       "    <tr>\n",
       "      <th>25%</th>\n",
       "      <td>2.000000</td>\n",
       "      <td>0.000000</td>\n",
       "      <td>1.000000</td>\n",
       "      <td>1.000000</td>\n",
       "      <td>0.000000</td>\n",
       "      <td>1.000000</td>\n",
       "      <td>1.000000</td>\n",
       "      <td>0.000000</td>\n",
       "      <td>0.000000</td>\n",
       "      <td>0.000000</td>\n",
       "      <td>...</td>\n",
       "      <td>0.000000</td>\n",
       "      <td>0.000000</td>\n",
       "      <td>0.000000</td>\n",
       "      <td>0.000000</td>\n",
       "      <td>0.000000</td>\n",
       "      <td>0.000000</td>\n",
       "      <td>0.000000</td>\n",
       "      <td>0.000000</td>\n",
       "      <td>0.000000</td>\n",
       "      <td>0.000000</td>\n",
       "    </tr>\n",
       "    <tr>\n",
       "      <th>50%</th>\n",
       "      <td>4.000000</td>\n",
       "      <td>0.000000</td>\n",
       "      <td>2.000000</td>\n",
       "      <td>1.000000</td>\n",
       "      <td>0.000000</td>\n",
       "      <td>2.000000</td>\n",
       "      <td>2.000000</td>\n",
       "      <td>1.000000</td>\n",
       "      <td>0.000000</td>\n",
       "      <td>1.000000</td>\n",
       "      <td>...</td>\n",
       "      <td>0.000000</td>\n",
       "      <td>0.000000</td>\n",
       "      <td>0.000000</td>\n",
       "      <td>0.000000</td>\n",
       "      <td>0.000000</td>\n",
       "      <td>0.000000</td>\n",
       "      <td>0.000000</td>\n",
       "      <td>0.000000</td>\n",
       "      <td>0.000000</td>\n",
       "      <td>0.000000</td>\n",
       "    </tr>\n",
       "    <tr>\n",
       "      <th>75%</th>\n",
       "      <td>5.000000</td>\n",
       "      <td>1.000000</td>\n",
       "      <td>2.000000</td>\n",
       "      <td>2.000000</td>\n",
       "      <td>0.000000</td>\n",
       "      <td>3.000000</td>\n",
       "      <td>3.000000</td>\n",
       "      <td>1.000000</td>\n",
       "      <td>1.000000</td>\n",
       "      <td>2.000000</td>\n",
       "      <td>...</td>\n",
       "      <td>0.000000</td>\n",
       "      <td>0.000000</td>\n",
       "      <td>1.000000</td>\n",
       "      <td>2.000000</td>\n",
       "      <td>0.000000</td>\n",
       "      <td>0.000000</td>\n",
       "      <td>0.000000</td>\n",
       "      <td>0.000000</td>\n",
       "      <td>0.000000</td>\n",
       "      <td>0.000000</td>\n",
       "    </tr>\n",
       "    <tr>\n",
       "      <th>max</th>\n",
       "      <td>6.000000</td>\n",
       "      <td>1.000000</td>\n",
       "      <td>2.000000</td>\n",
       "      <td>2.000000</td>\n",
       "      <td>1.000000</td>\n",
       "      <td>3.000000</td>\n",
       "      <td>3.000000</td>\n",
       "      <td>2.000000</td>\n",
       "      <td>2.000000</td>\n",
       "      <td>2.000000</td>\n",
       "      <td>...</td>\n",
       "      <td>2.000000</td>\n",
       "      <td>1.000000</td>\n",
       "      <td>3.000000</td>\n",
       "      <td>4.000000</td>\n",
       "      <td>1.000000</td>\n",
       "      <td>1.000000</td>\n",
       "      <td>1.000000</td>\n",
       "      <td>1.000000</td>\n",
       "      <td>1.000000</td>\n",
       "      <td>2.000000</td>\n",
       "    </tr>\n",
       "  </tbody>\n",
       "</table>\n",
       "<p>8 rows × 35 columns</p>\n",
       "</div>"
      ],
      "text/plain": [
       "             date  plant-stand      precip        temp        hail  \\\n",
       "count  306.000000   299.000000  296.000000  300.000000  266.000000   \n",
       "mean     3.529412     0.464883    1.577703    1.130000    0.206767   \n",
       "std      1.712285     0.499601    0.713580    0.622676    0.405750   \n",
       "min      0.000000     0.000000    0.000000    0.000000    0.000000   \n",
       "25%      2.000000     0.000000    1.000000    1.000000    0.000000   \n",
       "50%      4.000000     0.000000    2.000000    1.000000    0.000000   \n",
       "75%      5.000000     1.000000    2.000000    2.000000    0.000000   \n",
       "max      6.000000     1.000000    2.000000    2.000000    1.000000   \n",
       "\n",
       "        crop-hist  area-damaged    severity    seed-tmt  germination  ...  \\\n",
       "count  306.000000    306.000000  266.000000  266.000000   271.000000  ...   \n",
       "mean     1.816993      1.633987    0.778195    0.548872     1.014760  ...   \n",
       "std      0.994661      1.078868    0.620145    0.632052     0.798009  ...   \n",
       "min      0.000000      0.000000    0.000000    0.000000     0.000000  ...   \n",
       "25%      1.000000      1.000000    0.000000    0.000000     0.000000  ...   \n",
       "50%      2.000000      2.000000    1.000000    0.000000     1.000000  ...   \n",
       "75%      3.000000      3.000000    1.000000    1.000000     2.000000  ...   \n",
       "max      3.000000      3.000000    2.000000    2.000000     2.000000  ...   \n",
       "\n",
       "       int-discolor   sclerotia  fruit-pods  fruit spots        seed  \\\n",
       "count    296.000000  296.000000  282.000000   272.000000  278.000000   \n",
       "mean       0.135135    0.033784    0.549645     1.084559    0.183453   \n",
       "std        0.430193    0.180978    0.965241     1.575944    0.387736   \n",
       "min        0.000000    0.000000    0.000000     0.000000    0.000000   \n",
       "25%        0.000000    0.000000    0.000000     0.000000    0.000000   \n",
       "50%        0.000000    0.000000    0.000000     0.000000    0.000000   \n",
       "75%        0.000000    0.000000    1.000000     2.000000    0.000000   \n",
       "max        2.000000    1.000000    3.000000     4.000000    1.000000   \n",
       "\n",
       "       mold-growth  seed-discolor   seed-size  shriveling       roots  \n",
       "count   278.000000     272.000000  278.000000  272.000000  300.000000  \n",
       "mean      0.111511       0.102941    0.097122    0.058824    0.156667  \n",
       "std       0.315331       0.304442    0.296658    0.235728    0.423541  \n",
       "min       0.000000       0.000000    0.000000    0.000000    0.000000  \n",
       "25%       0.000000       0.000000    0.000000    0.000000    0.000000  \n",
       "50%       0.000000       0.000000    0.000000    0.000000    0.000000  \n",
       "75%       0.000000       0.000000    0.000000    0.000000    0.000000  \n",
       "max       1.000000       1.000000    1.000000    1.000000    2.000000  \n",
       "\n",
       "[8 rows x 35 columns]"
      ]
     },
     "metadata": {},
     "output_type": "display_data"
    }
   ],
   "source": [
    "display(df.describe())"
   ]
  },
  {
   "cell_type": "markdown",
   "id": "0d98f461-9671-4088-bed0-5ee970b3edd9",
   "metadata": {},
   "source": [
    "<h3>b) Wizualizacje danych</h3>"
   ]
  },
  {
   "cell_type": "code",
   "execution_count": 15,
   "id": "7d97d77b-0e96-43d8-8663-21c9dc8b9897",
   "metadata": {},
   "outputs": [
    {
     "data": {
      "image/png": "[encoded data removed]",
      "text/plain": [
       "<Figure size 1000x600 with 1 Axes>"
      ]
     },
     "metadata": {},
     "output_type": "display_data"
    }
   ],
   "source": [
    "plt.figure(figsize=(10, 6))\n",
    "sns.countplot(y=df['Classes'], order=df['Classes'].value_counts().index)\n",
    "plt.title(\"Rozkład klas w zbiorze danych\")\n",
    "plt.show()"
   ]
  },
  {
   "cell_type": "markdown",
   "id": "12538fd8-d8b9-4377-897b-33c0683a20e7",
   "metadata": {},
   "source": [
    "<h3>Wizualizacja brakujących danych</h3>"
   ]
  },
  {
   "cell_type": "code",
   "execution_count": 17,
   "id": "00ab2e9b-9f06-4863-a30c-418a440f6e1c",
   "metadata": {},
   "outputs": [
    {
     "data": {
      "image/png": "[encoded data removed]",
      "text/plain": [
       "<Figure size 1200x600 with 1 Axes>"
      ]
     },
     "metadata": {},
     "output_type": "display_data"
    }
   ],
   "source": [
    "plt.figure(figsize=(12, 6))\n",
    "sns.heatmap(df.isnull(), cbar=False, cmap=\"viridis\")\n",
    "plt.title(\"Brakujące dane w zbiorze\")\n",
    "plt.show()"
   ]
  },
  {
   "cell_type": "markdown",
   "id": "680ecd53-c60f-425d-8484-2933b9210a27",
   "metadata": {},
   "source": [
    "<h1>3. Przygotowanie danych</h1>"
   ]
  },
  {
   "cell_type": "markdown",
   "id": "a5dcac5e-4528-44fb-8a25-08f7f5637242",
   "metadata": {},
   "source": [
    "<h3>Usuwanie klas z bardzo małą liczbą próbek</h3>"
   ]
  },
  {
   "cell_type": "code",
   "execution_count": 20,
   "id": "1deadae9-557e-4b3e-9a98-3dc634db40e1",
   "metadata": {},
   "outputs": [],
   "source": [
    "class_counts = df['Classes'].value_counts()\n",
    "rare_classes = class_counts[class_counts < 2].index\n",
    "df = df[~df['Classes'].isin(rare_classes)]"
   ]
  },
  {
   "cell_type": "markdown",
   "id": "ad3b0ec3-153f-4ae9-a52d-d8f892f0761d",
   "metadata": {},
   "source": [
    "<h3>a) Czyszczenie danych (uzupełnianie brakujących wartości)</h3>"
   ]
  },
  {
   "cell_type": "code",
   "execution_count": 22,
   "id": "a93d607e-3ddc-44d1-9bd7-39bfc44c2c79",
   "metadata": {},
   "outputs": [],
   "source": [
    "num_cols = df.select_dtypes(include=\"number\").columns\n",
    "cat_cols = df.select_dtypes(include=\"object\").columns"
   ]
  },
  {
   "cell_type": "markdown",
   "id": "2e394805-50ee-46b7-b6a2-9a0a1afa49a9",
   "metadata": {},
   "source": [
    "<h3>Uzupełnianie brakujących wartości dla cech numerycznych</h3>"
   ]
  },
  {
   "cell_type": "code",
   "execution_count": 24,
   "id": "1d4c9d43-8df3-4133-aefc-dd4fa59af4f7",
   "metadata": {},
   "outputs": [],
   "source": [
    "imputer_num = SimpleImputer(strategy=\"mean\")\n",
    "df[num_cols] = imputer_num.fit_transform(df[num_cols])"
   ]
  },
  {
   "cell_type": "markdown",
   "id": "a210513d-1694-4b66-85ec-08c590429c37",
   "metadata": {},
   "source": [
    "<h3>Uzupełnianie brakujących wartości dla cech kategorycznych</h3>"
   ]
  },
  {
   "cell_type": "code",
   "execution_count": 26,
   "id": "48bf29d6-6f86-4caa-8e6a-2862637c8044",
   "metadata": {},
   "outputs": [],
   "source": [
    "imputer_cat = SimpleImputer(strategy=\"most_frequent\")\n",
    "df[cat_cols] = imputer_cat.fit_transform(df[cat_cols])"
   ]
  },
  {
   "cell_type": "markdown",
   "id": "d58c7f51-dbd2-4db6-aae0-1b14168f739a",
   "metadata": {},
   "source": [
    "<h3>b) Wybór cech</h3>"
   ]
  },
  {
   "cell_type": "code",
   "execution_count": 28,
   "id": "9703643a-c111-4868-bba0-365831d5e2c1",
   "metadata": {},
   "outputs": [
    {
     "name": "stdout",
     "output_type": "stream",
     "text": [
      "12 selected features\n"
     ]
    }
   ],
   "source": [
    "X = df.drop(columns=[\"Classes\"])\n",
    "y = df[\"Classes\"]\n",
    "\n",
    "embeded_rf_selector = SelectFromModel(RandomForestClassifier(n_estimators=100), max_features=35)\n",
    "embeded_rf_selector.fit(X, y)\n",
    "\n",
    "embeded_rf_support = embeded_rf_selector.get_support()\n",
    "embeded_rf_feature = X.loc[:,embeded_rf_support].columns.tolist()\n",
    "print(str(len(embeded_rf_feature)), 'selected features')\n",
    "\n",
    "X = df[embeded_rf_feature]"
   ]
  },
  {
   "cell_type": "markdown",
   "id": "a80d05ec-3134-475d-a8ae-8c0cac0170f7",
   "metadata": {},
   "source": [
    "<h3>Przekształcenie etykiet na numeryczne</h3>"
   ]
  },
  {
   "cell_type": "code",
   "execution_count": 30,
   "id": "c9f079be-646a-4bb2-93dc-2330cdbb8417",
   "metadata": {},
   "outputs": [],
   "source": [
    "y = LabelEncoder().fit_transform(y)"
   ]
  },
  {
   "cell_type": "markdown",
   "id": "4a127946-441e-4e9b-a6f9-69fb632cf564",
   "metadata": {},
   "source": [
    "<h3>c) Przekształcenia danych (normalizacja)</h3>"
   ]
  },
  {
   "cell_type": "code",
   "execution_count": 32,
   "id": "54511b07-1545-462b-bec7-fc52006e8579",
   "metadata": {},
   "outputs": [],
   "source": [
    "scaler = StandardScaler()\n",
    "X_scaled = scaler.fit_transform(X)"
   ]
  },
  {
   "cell_type": "markdown",
   "id": "870cf907-e7d8-482b-9893-eacc6959d629",
   "metadata": {},
   "source": [
    "<h1>4. Tworzenie modelu i ocena algorytmów</h1>"
   ]
  },
  {
   "cell_type": "markdown",
   "id": "4964121c-b65f-49cc-bc0d-18934c64f93f",
   "metadata": {},
   "source": [
    "<h3>a) Podział zbioru danych</h3>"
   ]
  },
  {
   "cell_type": "code",
   "execution_count": 35,
   "id": "9616c10c-d9b7-4948-8773-9077f204a239",
   "metadata": {},
   "outputs": [],
   "source": [
    "X_train, X_test, y_train, y_test = train_test_split(X_scaled, y, test_size=0.3, random_state=42, stratify=y)"
   ]
  },
  {
   "cell_type": "markdown",
   "id": "8b40089b-1cdc-451b-8a9d-ab5c61cb1269",
   "metadata": {},
   "source": [
    "<h3>b) Algorytm 1: Random Forest</h3>"
   ]
  },
  {
   "cell_type": "code",
   "execution_count": 37,
   "id": "9928e330-cb32-415a-b111-899f2d852d1c",
   "metadata": {},
   "outputs": [],
   "source": [
    "rf_model = RandomForestClassifier(random_state=42)\n",
    "rf_model.fit(X_train, y_train)\n",
    "rf_preds = rf_model.predict(X_test)"
   ]
  },
  {
   "cell_type": "markdown",
   "id": "d0895123-c24a-461b-b199-a710daf34e60",
   "metadata": {},
   "source": [
    "<h3>Algorytm 2: Decision Tree</h3>"
   ]
  },
  {
   "cell_type": "code",
   "execution_count": 39,
   "id": "2d8c48fb-90ee-450e-9c5c-7b7342207291",
   "metadata": {},
   "outputs": [],
   "source": [
    "dt_model = DecisionTreeClassifier(random_state=42)\n",
    "dt_model.fit(X_train, y_train)\n",
    "dt_preds = dt_model.predict(X_test)"
   ]
  },
  {
   "cell_type": "markdown",
   "id": "16ffdede-5661-4fe7-ae19-8e01cd3172ed",
   "metadata": {},
   "source": [
    "<h3>c) Wyniki i porównanie</h3>"
   ]
  },
  {
   "cell_type": "code",
   "execution_count": 41,
   "id": "8ec233ea-012e-45cd-9022-967119429be4",
   "metadata": {},
   "outputs": [
    {
     "name": "stdout",
     "output_type": "stream",
     "text": [
      "Random Forest Classification Report:\n",
      "              precision    recall  f1-score   support\n",
      "\n",
      "           0       0.82      0.75      0.78        12\n",
      "           1       1.00      0.83      0.91         6\n",
      "           2       1.00      1.00      1.00         3\n",
      "           3       1.00      1.00      1.00         3\n",
      "           4       0.92      1.00      0.96        12\n",
      "           5       1.00      1.00      1.00         6\n",
      "           6       1.00      1.00      1.00         3\n",
      "           7       1.00      1.00      1.00         2\n",
      "           8       1.00      1.00      1.00         2\n",
      "           9       1.00      1.00      1.00         3\n",
      "          10       1.00      1.00      1.00         3\n",
      "          11       0.75      0.75      0.75        12\n",
      "          12       1.00      1.00      1.00         1\n",
      "          13       1.00      1.00      1.00         3\n",
      "          14       0.92      1.00      0.96        12\n",
      "          15       1.00      1.00      1.00         3\n",
      "          16       1.00      1.00      1.00         3\n",
      "          17       1.00      1.00      1.00         3\n",
      "\n",
      "    accuracy                           0.92        92\n",
      "   macro avg       0.97      0.96      0.96        92\n",
      "weighted avg       0.92      0.92      0.92        92\n",
      "\n",
      "Accuracy: 0.9239130434782609\n"
     ]
    }
   ],
   "source": [
    "print(\"Random Forest Classification Report:\")\n",
    "print(classification_report(y_test, rf_preds))\n",
    "print(\"Accuracy:\", accuracy_score(y_test, rf_preds))"
   ]
  },
  {
   "cell_type": "code",
   "execution_count": 42,
   "id": "b09e9a30-3e93-4307-9970-0dc0adee1e4a",
   "metadata": {},
   "outputs": [
    {
     "name": "stdout",
     "output_type": "stream",
     "text": [
      "\n",
      "Decision Tree Classification Report:\n",
      "              precision    recall  f1-score   support\n",
      "\n",
      "           0       0.82      0.75      0.78        12\n",
      "           1       1.00      0.83      0.91         6\n",
      "           2       1.00      1.00      1.00         3\n",
      "           3       1.00      1.00      1.00         3\n",
      "           4       0.85      0.92      0.88        12\n",
      "           5       1.00      0.83      0.91         6\n",
      "           6       1.00      1.00      1.00         3\n",
      "           7       1.00      1.00      1.00         2\n",
      "           8       1.00      1.00      1.00         2\n",
      "           9       1.00      1.00      1.00         3\n",
      "          10       1.00      1.00      1.00         3\n",
      "          11       0.69      0.75      0.72        12\n",
      "          12       0.50      1.00      0.67         1\n",
      "          13       0.67      0.67      0.67         3\n",
      "          14       0.92      1.00      0.96        12\n",
      "          15       1.00      1.00      1.00         3\n",
      "          16       1.00      0.67      0.80         3\n",
      "          17       1.00      1.00      1.00         3\n",
      "\n",
      "    accuracy                           0.88        92\n",
      "   macro avg       0.91      0.91      0.91        92\n",
      "weighted avg       0.89      0.88      0.88        92\n",
      "\n",
      "Accuracy: 0.8804347826086957\n"
     ]
    }
   ],
   "source": [
    "print(\"\\nDecision Tree Classification Report:\")\n",
    "print(classification_report(y_test, dt_preds))\n",
    "print(\"Accuracy:\", accuracy_score(y_test, dt_preds))"
   ]
  },
  {
   "cell_type": "markdown",
   "id": "c1c48766-602a-4040-a97f-9d5538cb3195",
   "metadata": {},
   "source": [
    "<h3>d) Przykładowy wynik klasyfikacji</h3>"
   ]
  },
  {
   "cell_type": "code",
   "execution_count": 44,
   "id": "59361bcb-ff68-4d73-8d03-b9da83ed6660",
   "metadata": {},
   "outputs": [
    {
     "name": "stdout",
     "output_type": "stream",
     "text": [
      "\n",
      "Przykładowy wynik (Random Forest):\n",
      "Prawdziwa klasa: 2 | Predykcja: 2\n",
      "Prawdziwa klasa: 17 | Predykcja: 17\n",
      "Prawdziwa klasa: 11 | Predykcja: 11\n",
      "Prawdziwa klasa: 12 | Predykcja: 12\n",
      "Prawdziwa klasa: 0 | Predykcja: 11\n"
     ]
    }
   ],
   "source": [
    "print(\"\\nPrzykładowy wynik (Random Forest):\")\n",
    "print(f\"Prawdziwa klasa: {y_test[0]} | Predykcja: {rf_preds[0]}\")\n",
    "print(f\"Prawdziwa klasa: {y_test[45]} | Predykcja: {rf_preds[45]}\")\n",
    "print(f\"Prawdziwa klasa: {y_test[89]} | Predykcja: {rf_preds[89]}\")\n",
    "print(f\"Prawdziwa klasa: {y_test[90]} | Predykcja: {rf_preds[90]}\")\n",
    "print(f\"Prawdziwa klasa: {y_test[91]} | Predykcja: {rf_preds[91]}\")"
   ]
  },
  {
   "cell_type": "markdown",
   "id": "72bfeb85-dc5c-4f5b-8163-331c10217c7f",
   "metadata": {},
   "source": [
    "<h3>e) Czynności poprawiające wynik</h3>"
   ]
  },
  {
   "cell_type": "markdown",
   "id": "91374950-e1c1-4913-afd3-610131c8bf9b",
   "metadata": {},
   "source": [
    "Optymalizacja wyników może obejmować:\n",
    "1. Wypróbowanie innych algorytmów klasyfikacji, takich jak SVM, KNN lub gradient boosting.\n",
    "2. Zastosowanie technik walidacji krzyżowej, aby lepiej oszacować wydajność modelu.\n",
    "3. Dostosowanie hiperparametrów modeli (np. za pomocą GridSearchCV lub RandomizedSearchCV).\n",
    "4. Użycie metod selekcji cech, aby wyeliminować cechy mniej istotne.\n",
    "5. Usprawnienie normalizacji lub skalowania danych."
   ]
  },
  {
   "cell_type": "markdown",
   "id": "f438c8bf-311a-4080-8e21-6c29131cc47a",
   "metadata": {},
   "source": [
    "<h1>5. Podsumowanie</h1>"
   ]
  },
  {
   "cell_type": "markdown",
   "id": "dc06f083-eed4-48eb-bfef-566860e92bb8",
   "metadata": {},
   "source": [
    "W projekcie przeanalizowałem zbiór danych \"Soybean (Large)\" dotyczący klasyfikacji chorób soi. Zastosowałem dwie metody klasyfikacji: Random Forest i Decision Tree. Algorytm Random Forest osiągnął wyższą dokładność w porównaniu z Decision Tree. Usunięcie rzadkich klas poprawiło jakość danych i pozwoliło na skuteczniejsze szkolenie modeli. Można rozważyć zastosowanie bardziej zaawansowanych technik, takich jak optymalizacja hiperparametrów czy walidacja krzyżowa.\n",
    "\n",
    "Wyniki sugerują, że dane dobrze nadają się do klasyfikacji, ale wymagają starannego przetwarzania w celu uzyskania najlepszych wyników. "
   ]
  },
  {
   "cell_type": "code",
   "execution_count": null,
   "id": "ebe5f2c6-41bc-4d0f-a10a-275c74676e74",
   "metadata": {},
   "outputs": [],
   "source": []
  }
 ],
 "metadata": {
  "kernelspec": {
   "display_name": "Python 3 (ipykernel)",
   "language": "python",
   "name": "python3"
  },
  "language_info": {
   "codemirror_mode": {
    "name": "ipython",
    "version": 3
   },
   "file_extension": ".py",
   "mimetype": "text/x-python",
   "name": "python",
   "nbconvert_exporter": "python",
   "pygments_lexer": "ipython3",
   "version": "3.12.4"
  }
 },
 "nbformat": 4,
 "nbformat_minor": 5
}
